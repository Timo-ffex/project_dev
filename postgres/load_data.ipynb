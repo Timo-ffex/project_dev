{
    "cells": [
        {
            "cell_type": "code",
            "execution_count": 2,
            "metadata": {},
            "outputs": [],
            "source": [
                "import pandas as pd\n",
                "from sqlalchemy import create_engine\n",
                "import sqlalchemy \n",
                "path = '/Users/dit/Documents/code/Learning/end-to-end-DE-project/postgres/yellow_tripdata_2021-01.parquet'\n",
                "lu_path = '/Users/dit/Documents/code/Learning/end-to-end-DE-project/postgres/taxi+_zone_lookup.csv'"
            ]
        },
        {
            "cell_type": "markdown",
            "metadata": {},
            "source": [
                "# View data"
            ]
        },
        {
            "cell_type": "code",
            "execution_count": 3,
            "metadata": {},
            "outputs": [
                {
                    "ename": "FileNotFoundError",
                    "evalue": "[Errno 2] No such file or directory: '/Users/dit/Documents/code/Learning/end-to-end-DE-project/postgres/yellow_tripdata_2021-01.parquet'",
                    "output_type": "error",
                    "traceback": [
                        "\u001b[0;31m---------------------------------------------------------------------------\u001b[0m",
                        "\u001b[0;31mFileNotFoundError\u001b[0m                         Traceback (most recent call last)",
                        "\u001b[1;32m/Users/dit/Documents/code/Learning/end-to-end-DE-project/postgres/load_data.ipynb Cell 3\u001b[0m in \u001b[0;36m<cell line: 1>\u001b[0;34m()\u001b[0m\n\u001b[0;32m----> <a href='vscode-notebook-cell:/Users/dit/Documents/code/Learning/end-to-end-DE-project/postgres/load_data.ipynb#W2sZmlsZQ%3D%3D?line=0'>1</a>\u001b[0m df \u001b[39m=\u001b[39m pd\u001b[39m.\u001b[39;49mread_parquet(path)\n\u001b[1;32m      <a href='vscode-notebook-cell:/Users/dit/Documents/code/Learning/end-to-end-DE-project/postgres/load_data.ipynb#W2sZmlsZQ%3D%3D?line=1'>2</a>\u001b[0m lu_df \u001b[39m=\u001b[39m pd\u001b[39m.\u001b[39mread_csv(lu_path)\n\u001b[1;32m      <a href='vscode-notebook-cell:/Users/dit/Documents/code/Learning/end-to-end-DE-project/postgres/load_data.ipynb#W2sZmlsZQ%3D%3D?line=2'>3</a>\u001b[0m \u001b[39mprint\u001b[39m(df\u001b[39m.\u001b[39mshape)\n",
                        "File \u001b[0;32m~/.local/share/virtualenvs/.ds_env-MNTYxxd-/lib/python3.8/site-packages/pandas/io/parquet.py:493\u001b[0m, in \u001b[0;36mread_parquet\u001b[0;34m(path, engine, columns, storage_options, use_nullable_dtypes, **kwargs)\u001b[0m\n\u001b[1;32m    446\u001b[0m \u001b[39m\"\"\"\u001b[39;00m\n\u001b[1;32m    447\u001b[0m \u001b[39mLoad a parquet object from the file path, returning a DataFrame.\u001b[39;00m\n\u001b[1;32m    448\u001b[0m \n\u001b[0;32m   (...)\u001b[0m\n\u001b[1;32m    489\u001b[0m \u001b[39mDataFrame\u001b[39;00m\n\u001b[1;32m    490\u001b[0m \u001b[39m\"\"\"\u001b[39;00m\n\u001b[1;32m    491\u001b[0m impl \u001b[39m=\u001b[39m get_engine(engine)\n\u001b[0;32m--> 493\u001b[0m \u001b[39mreturn\u001b[39;00m impl\u001b[39m.\u001b[39;49mread(\n\u001b[1;32m    494\u001b[0m     path,\n\u001b[1;32m    495\u001b[0m     columns\u001b[39m=\u001b[39;49mcolumns,\n\u001b[1;32m    496\u001b[0m     storage_options\u001b[39m=\u001b[39;49mstorage_options,\n\u001b[1;32m    497\u001b[0m     use_nullable_dtypes\u001b[39m=\u001b[39;49muse_nullable_dtypes,\n\u001b[1;32m    498\u001b[0m     \u001b[39m*\u001b[39;49m\u001b[39m*\u001b[39;49mkwargs,\n\u001b[1;32m    499\u001b[0m )\n",
                        "File \u001b[0;32m~/.local/share/virtualenvs/.ds_env-MNTYxxd-/lib/python3.8/site-packages/pandas/io/parquet.py:233\u001b[0m, in \u001b[0;36mPyArrowImpl.read\u001b[0;34m(self, path, columns, use_nullable_dtypes, storage_options, **kwargs)\u001b[0m\n\u001b[1;32m    230\u001b[0m \u001b[39mif\u001b[39;00m manager \u001b[39m==\u001b[39m \u001b[39m\"\u001b[39m\u001b[39marray\u001b[39m\u001b[39m\"\u001b[39m:\n\u001b[1;32m    231\u001b[0m     to_pandas_kwargs[\u001b[39m\"\u001b[39m\u001b[39msplit_blocks\u001b[39m\u001b[39m\"\u001b[39m] \u001b[39m=\u001b[39m \u001b[39mTrue\u001b[39;00m  \u001b[39m# type: ignore[assignment]\u001b[39;00m\n\u001b[0;32m--> 233\u001b[0m path_or_handle, handles, kwargs[\u001b[39m\"\u001b[39m\u001b[39mfilesystem\u001b[39m\u001b[39m\"\u001b[39m] \u001b[39m=\u001b[39m _get_path_or_handle(\n\u001b[1;32m    234\u001b[0m     path,\n\u001b[1;32m    235\u001b[0m     kwargs\u001b[39m.\u001b[39;49mpop(\u001b[39m\"\u001b[39;49m\u001b[39mfilesystem\u001b[39;49m\u001b[39m\"\u001b[39;49m, \u001b[39mNone\u001b[39;49;00m),\n\u001b[1;32m    236\u001b[0m     storage_options\u001b[39m=\u001b[39;49mstorage_options,\n\u001b[1;32m    237\u001b[0m     mode\u001b[39m=\u001b[39;49m\u001b[39m\"\u001b[39;49m\u001b[39mrb\u001b[39;49m\u001b[39m\"\u001b[39;49m,\n\u001b[1;32m    238\u001b[0m )\n\u001b[1;32m    239\u001b[0m \u001b[39mtry\u001b[39;00m:\n\u001b[1;32m    240\u001b[0m     result \u001b[39m=\u001b[39m \u001b[39mself\u001b[39m\u001b[39m.\u001b[39mapi\u001b[39m.\u001b[39mparquet\u001b[39m.\u001b[39mread_table(\n\u001b[1;32m    241\u001b[0m         path_or_handle, columns\u001b[39m=\u001b[39mcolumns, \u001b[39m*\u001b[39m\u001b[39m*\u001b[39mkwargs\n\u001b[1;32m    242\u001b[0m     )\u001b[39m.\u001b[39mto_pandas(\u001b[39m*\u001b[39m\u001b[39m*\u001b[39mto_pandas_kwargs)\n",
                        "File \u001b[0;32m~/.local/share/virtualenvs/.ds_env-MNTYxxd-/lib/python3.8/site-packages/pandas/io/parquet.py:102\u001b[0m, in \u001b[0;36m_get_path_or_handle\u001b[0;34m(path, fs, storage_options, mode, is_dir)\u001b[0m\n\u001b[1;32m     92\u001b[0m handles \u001b[39m=\u001b[39m \u001b[39mNone\u001b[39;00m\n\u001b[1;32m     93\u001b[0m \u001b[39mif\u001b[39;00m (\n\u001b[1;32m     94\u001b[0m     \u001b[39mnot\u001b[39;00m fs\n\u001b[1;32m     95\u001b[0m     \u001b[39mand\u001b[39;00m \u001b[39mnot\u001b[39;00m is_dir\n\u001b[0;32m   (...)\u001b[0m\n\u001b[1;32m    100\u001b[0m     \u001b[39m# fsspec resources can also point to directories\u001b[39;00m\n\u001b[1;32m    101\u001b[0m     \u001b[39m# this branch is used for example when reading from non-fsspec URLs\u001b[39;00m\n\u001b[0;32m--> 102\u001b[0m     handles \u001b[39m=\u001b[39m get_handle(\n\u001b[1;32m    103\u001b[0m         path_or_handle, mode, is_text\u001b[39m=\u001b[39;49m\u001b[39mFalse\u001b[39;49;00m, storage_options\u001b[39m=\u001b[39;49mstorage_options\n\u001b[1;32m    104\u001b[0m     )\n\u001b[1;32m    105\u001b[0m     fs \u001b[39m=\u001b[39m \u001b[39mNone\u001b[39;00m\n\u001b[1;32m    106\u001b[0m     path_or_handle \u001b[39m=\u001b[39m handles\u001b[39m.\u001b[39mhandle\n",
                        "File \u001b[0;32m~/.local/share/virtualenvs/.ds_env-MNTYxxd-/lib/python3.8/site-packages/pandas/io/common.py:795\u001b[0m, in \u001b[0;36mget_handle\u001b[0;34m(path_or_buf, mode, encoding, compression, memory_map, is_text, errors, storage_options)\u001b[0m\n\u001b[1;32m    786\u001b[0m         handle \u001b[39m=\u001b[39m \u001b[39mopen\u001b[39m(\n\u001b[1;32m    787\u001b[0m             handle,\n\u001b[1;32m    788\u001b[0m             ioargs\u001b[39m.\u001b[39mmode,\n\u001b[0;32m   (...)\u001b[0m\n\u001b[1;32m    791\u001b[0m             newline\u001b[39m=\u001b[39m\u001b[39m\"\u001b[39m\u001b[39m\"\u001b[39m,\n\u001b[1;32m    792\u001b[0m         )\n\u001b[1;32m    793\u001b[0m     \u001b[39melse\u001b[39;00m:\n\u001b[1;32m    794\u001b[0m         \u001b[39m# Binary mode\u001b[39;00m\n\u001b[0;32m--> 795\u001b[0m         handle \u001b[39m=\u001b[39m \u001b[39mopen\u001b[39;49m(handle, ioargs\u001b[39m.\u001b[39;49mmode)\n\u001b[1;32m    796\u001b[0m     handles\u001b[39m.\u001b[39mappend(handle)\n\u001b[1;32m    798\u001b[0m \u001b[39m# Convert BytesIO or file objects passed with an encoding\u001b[39;00m\n",
                        "\u001b[0;31mFileNotFoundError\u001b[0m: [Errno 2] No such file or directory: '/Users/dit/Documents/code/Learning/end-to-end-DE-project/postgres/yellow_tripdata_2021-01.parquet'"
                    ]
                }
            ],
            "source": [
                "df = pd.read_parquet(path)\n",
                "lu_df = pd.read_csv(lu_path)\n",
                "print(df.shape)\n",
                "print(lu_df.shape)\n",
                "df.head()\n",
                "lu_df.head()"
            ]
        },
        {
            "cell_type": "code",
            "execution_count": 9,
            "metadata": {},
            "outputs": [
                {
                    "data": {
                        "text/html": [
                            "<div>\n",
                            "<style scoped>\n",
                            "    .dataframe tbody tr th:only-of-type {\n",
                            "        vertical-align: middle;\n",
                            "    }\n",
                            "\n",
                            "    .dataframe tbody tr th {\n",
                            "        vertical-align: top;\n",
                            "    }\n",
                            "\n",
                            "    .dataframe thead th {\n",
                            "        text-align: right;\n",
                            "    }\n",
                            "</style>\n",
                            "<table border=\"1\" class=\"dataframe\">\n",
                            "  <thead>\n",
                            "    <tr style=\"text-align: right;\">\n",
                            "      <th></th>\n",
                            "      <th>VendorID</th>\n",
                            "      <th>tpep_pickup_datetime</th>\n",
                            "      <th>tpep_dropoff_datetime</th>\n",
                            "      <th>passenger_count</th>\n",
                            "      <th>trip_distance</th>\n",
                            "      <th>RatecodeID</th>\n",
                            "      <th>store_and_fwd_flag</th>\n",
                            "      <th>PULocationID</th>\n",
                            "      <th>DOLocationID</th>\n",
                            "      <th>payment_type</th>\n",
                            "      <th>fare_amount</th>\n",
                            "      <th>extra</th>\n",
                            "      <th>mta_tax</th>\n",
                            "      <th>tip_amount</th>\n",
                            "      <th>tolls_amount</th>\n",
                            "      <th>improvement_surcharge</th>\n",
                            "      <th>total_amount</th>\n",
                            "      <th>congestion_surcharge</th>\n",
                            "      <th>airport_fee</th>\n",
                            "    </tr>\n",
                            "  </thead>\n",
                            "  <tbody>\n",
                            "    <tr>\n",
                            "      <th>0</th>\n",
                            "      <td>1</td>\n",
                            "      <td>2021-01-01 00:30:10</td>\n",
                            "      <td>2021-01-01 00:36:12</td>\n",
                            "      <td>1.0</td>\n",
                            "      <td>2.10</td>\n",
                            "      <td>1.0</td>\n",
                            "      <td>N</td>\n",
                            "      <td>142</td>\n",
                            "      <td>43</td>\n",
                            "      <td>2</td>\n",
                            "      <td>8.0</td>\n",
                            "      <td>3.0</td>\n",
                            "      <td>0.5</td>\n",
                            "      <td>0.00</td>\n",
                            "      <td>0.0</td>\n",
                            "      <td>0.3</td>\n",
                            "      <td>11.80</td>\n",
                            "      <td>2.5</td>\n",
                            "      <td>NaN</td>\n",
                            "    </tr>\n",
                            "    <tr>\n",
                            "      <th>1</th>\n",
                            "      <td>1</td>\n",
                            "      <td>2021-01-01 00:51:20</td>\n",
                            "      <td>2021-01-01 00:52:19</td>\n",
                            "      <td>1.0</td>\n",
                            "      <td>0.20</td>\n",
                            "      <td>1.0</td>\n",
                            "      <td>N</td>\n",
                            "      <td>238</td>\n",
                            "      <td>151</td>\n",
                            "      <td>2</td>\n",
                            "      <td>3.0</td>\n",
                            "      <td>0.5</td>\n",
                            "      <td>0.5</td>\n",
                            "      <td>0.00</td>\n",
                            "      <td>0.0</td>\n",
                            "      <td>0.3</td>\n",
                            "      <td>4.30</td>\n",
                            "      <td>0.0</td>\n",
                            "      <td>NaN</td>\n",
                            "    </tr>\n",
                            "    <tr>\n",
                            "      <th>2</th>\n",
                            "      <td>1</td>\n",
                            "      <td>2021-01-01 00:43:30</td>\n",
                            "      <td>2021-01-01 01:11:06</td>\n",
                            "      <td>1.0</td>\n",
                            "      <td>14.70</td>\n",
                            "      <td>1.0</td>\n",
                            "      <td>N</td>\n",
                            "      <td>132</td>\n",
                            "      <td>165</td>\n",
                            "      <td>1</td>\n",
                            "      <td>42.0</td>\n",
                            "      <td>0.5</td>\n",
                            "      <td>0.5</td>\n",
                            "      <td>8.65</td>\n",
                            "      <td>0.0</td>\n",
                            "      <td>0.3</td>\n",
                            "      <td>51.95</td>\n",
                            "      <td>0.0</td>\n",
                            "      <td>NaN</td>\n",
                            "    </tr>\n",
                            "    <tr>\n",
                            "      <th>3</th>\n",
                            "      <td>1</td>\n",
                            "      <td>2021-01-01 00:15:48</td>\n",
                            "      <td>2021-01-01 00:31:01</td>\n",
                            "      <td>0.0</td>\n",
                            "      <td>10.60</td>\n",
                            "      <td>1.0</td>\n",
                            "      <td>N</td>\n",
                            "      <td>138</td>\n",
                            "      <td>132</td>\n",
                            "      <td>1</td>\n",
                            "      <td>29.0</td>\n",
                            "      <td>0.5</td>\n",
                            "      <td>0.5</td>\n",
                            "      <td>6.05</td>\n",
                            "      <td>0.0</td>\n",
                            "      <td>0.3</td>\n",
                            "      <td>36.35</td>\n",
                            "      <td>0.0</td>\n",
                            "      <td>NaN</td>\n",
                            "    </tr>\n",
                            "    <tr>\n",
                            "      <th>4</th>\n",
                            "      <td>2</td>\n",
                            "      <td>2021-01-01 00:31:49</td>\n",
                            "      <td>2021-01-01 00:48:21</td>\n",
                            "      <td>1.0</td>\n",
                            "      <td>4.94</td>\n",
                            "      <td>1.0</td>\n",
                            "      <td>N</td>\n",
                            "      <td>68</td>\n",
                            "      <td>33</td>\n",
                            "      <td>1</td>\n",
                            "      <td>16.5</td>\n",
                            "      <td>0.5</td>\n",
                            "      <td>0.5</td>\n",
                            "      <td>4.06</td>\n",
                            "      <td>0.0</td>\n",
                            "      <td>0.3</td>\n",
                            "      <td>24.36</td>\n",
                            "      <td>2.5</td>\n",
                            "      <td>NaN</td>\n",
                            "    </tr>\n",
                            "  </tbody>\n",
                            "</table>\n",
                            "</div>"
                        ],
                        "text/plain": [
                            "   VendorID tpep_pickup_datetime tpep_dropoff_datetime  passenger_count  \\\n",
                            "0         1  2021-01-01 00:30:10   2021-01-01 00:36:12              1.0   \n",
                            "1         1  2021-01-01 00:51:20   2021-01-01 00:52:19              1.0   \n",
                            "2         1  2021-01-01 00:43:30   2021-01-01 01:11:06              1.0   \n",
                            "3         1  2021-01-01 00:15:48   2021-01-01 00:31:01              0.0   \n",
                            "4         2  2021-01-01 00:31:49   2021-01-01 00:48:21              1.0   \n",
                            "\n",
                            "   trip_distance  RatecodeID store_and_fwd_flag  PULocationID  DOLocationID  \\\n",
                            "0           2.10         1.0                  N           142            43   \n",
                            "1           0.20         1.0                  N           238           151   \n",
                            "2          14.70         1.0                  N           132           165   \n",
                            "3          10.60         1.0                  N           138           132   \n",
                            "4           4.94         1.0                  N            68            33   \n",
                            "\n",
                            "   payment_type  fare_amount  extra  mta_tax  tip_amount  tolls_amount  \\\n",
                            "0             2          8.0    3.0      0.5        0.00           0.0   \n",
                            "1             2          3.0    0.5      0.5        0.00           0.0   \n",
                            "2             1         42.0    0.5      0.5        8.65           0.0   \n",
                            "3             1         29.0    0.5      0.5        6.05           0.0   \n",
                            "4             1         16.5    0.5      0.5        4.06           0.0   \n",
                            "\n",
                            "   improvement_surcharge  total_amount  congestion_surcharge  airport_fee  \n",
                            "0                    0.3         11.80                   2.5          NaN  \n",
                            "1                    0.3          4.30                   0.0          NaN  \n",
                            "2                    0.3         51.95                   0.0          NaN  \n",
                            "3                    0.3         36.35                   0.0          NaN  \n",
                            "4                    0.3         24.36                   2.5          NaN  "
                        ]
                    },
                    "execution_count": 9,
                    "metadata": {},
                    "output_type": "execute_result"
                }
            ],
            "source": [
                "df.head()"
            ]
        },
        {
            "cell_type": "code",
            "execution_count": 1,
            "metadata": {},
            "outputs": [
                {
                    "ename": "NameError",
                    "evalue": "name 'df' is not defined",
                    "output_type": "error",
                    "traceback": [
                        "\u001b[0;31m---------------------------------------------------------------------------\u001b[0m",
                        "\u001b[0;31mNameError\u001b[0m                                 Traceback (most recent call last)",
                        "\u001b[1;32m/Users/dit/Documents/code/Learning/end-to-end-DE-project/postgres/load_data.ipynb Cell 5\u001b[0m in \u001b[0;36m<cell line: 1>\u001b[0;34m()\u001b[0m\n\u001b[0;32m----> <a href='vscode-notebook-cell:/Users/dit/Documents/code/Learning/end-to-end-DE-project/postgres/load_data.ipynb#W4sZmlsZQ%3D%3D?line=0'>1</a>\u001b[0m df\u001b[39m.\u001b[39minfo()\n",
                        "\u001b[0;31mNameError\u001b[0m: name 'df' is not defined"
                    ]
                }
            ],
            "source": [
                "df.info()"
            ]
        },
        {
            "cell_type": "markdown",
            "metadata": {},
            "source": [
                "# DB cred"
            ]
        },
        {
            "cell_type": "code",
            "execution_count": 3,
            "metadata": {},
            "outputs": [],
            "source": [
                "user = 'postgres'\n",
                "port = '5432'\n",
                "host = 'localhost'\n",
                "password = \"***\"\n",
                "db = 'test_db'\n",
                "\n",
                "\n",
                "# python ingest_data.py \\\n",
                "#     --user postgres \\\n",
                "#     --port 5432 \\\n",
                "#     --host localhost \\\n",
                "#     --password  ***\\\n",
                "#     --db test_db \\\n",
                "#     --table_name yellow_taxi_data_v1 \\\n",
                "#     --url /Users/dit/Documents/Learning/postgres/yellow_tripdata_2021-01.parquet\n",
                "#     --url https://s3.amazonaws.com/nyc-tlc/trip+data/yellow_tripdata_2021-01.parquet"
            ]
        },
        {
            "cell_type": "code",
            "execution_count": 4,
            "metadata": {},
            "outputs": [
                {
                    "name": "stdout",
                    "output_type": "stream",
                    "text": [
                        "\n",
                        "CREATE TABLE yellow_taxi_data (\n",
                        "\t\"VendorID\" BIGINT, \n",
                        "\ttpep_pickup_datetime TIMESTAMP WITHOUT TIME ZONE, \n",
                        "\ttpep_dropoff_datetime TIMESTAMP WITHOUT TIME ZONE, \n",
                        "\tpassenger_count FLOAT(53), \n",
                        "\ttrip_distance FLOAT(53), \n",
                        "\t\"RatecodeID\" FLOAT(53), \n",
                        "\tstore_and_fwd_flag TEXT, \n",
                        "\t\"PULocationID\" BIGINT, \n",
                        "\t\"DOLocationID\" BIGINT, \n",
                        "\tpayment_type BIGINT, \n",
                        "\tfare_amount FLOAT(53), \n",
                        "\textra FLOAT(53), \n",
                        "\tmta_tax FLOAT(53), \n",
                        "\ttip_amount FLOAT(53), \n",
                        "\ttolls_amount FLOAT(53), \n",
                        "\timprovement_surcharge FLOAT(53), \n",
                        "\ttotal_amount FLOAT(53), \n",
                        "\tcongestion_surcharge FLOAT(53), \n",
                        "\tairport_fee FLOAT(53)\n",
                        ")\n",
                        "\n",
                        "\n",
                        "\n",
                        "CREATE TABLE lookup_table (\n",
                        "\t\"LocationID\" BIGINT, \n",
                        "\t\"Borough\" TEXT, \n",
                        "\t\"Zone\" TEXT, \n",
                        "\tservice_zone TEXT\n",
                        ")\n",
                        "\n",
                        "\n"
                    ]
                }
            ],
            "source": [
                "engine = create_engine(f'postgresql+pg8000://{user}:{password}@{host}:{port}/{db}')\n",
                "print(pd.io.sql.get_schema(df, name='yellow_taxi_data', con=engine))\n",
                "print(pd.io.sql.get_schema(lu_df, name='lookup_table', con=engine))"
            ]
        },
        {
            "cell_type": "markdown",
            "metadata": {},
            "source": [
                "# create table"
            ]
        },
        {
            "cell_type": "code",
            "execution_count": 5,
            "metadata": {},
            "outputs": [
                {
                    "data": {
                        "text/plain": [
                            "2"
                        ]
                    },
                    "execution_count": 5,
                    "metadata": {},
                    "output_type": "execute_result"
                }
            ],
            "source": [
                "df.head(2).to_sql(name='yellow_taxi_data', con=engine, if_exists='append', index=False)"
            ]
        },
        {
            "cell_type": "code",
            "execution_count": 9,
            "metadata": {},
            "outputs": [
                {
                    "data": {
                        "text/plain": [
                            "5"
                        ]
                    },
                    "execution_count": 9,
                    "metadata": {},
                    "output_type": "execute_result"
                }
            ],
            "source": [
                "df.head(5).to_sql(name='yellow_taxi_data_v2', con=engine, if_exists='replace', index=False)\n",
                "# lu_df.to_sql(name='lookup_table', con=engine, if_exists='replace', index=False)\n"
            ]
        },
        {
            "cell_type": "code",
            "execution_count": null,
            "metadata": {},
            "outputs": [],
            "source": [
                "def load_to_postgres(path):\n",
                "    df = pd.read_parquet(path)\n",
                "    engine = create_engine(f'postgresql+pg8000://{user}:{password}@{host}:{port}/{db}')\n",
                "\n",
                "    while count < total:\n",
                "        start = time()\n",
                "        next_ = count + 50000\n",
                "        # print(count, next_)\n",
                "        write_df = df.iloc[count: next_]\n",
                "        write_df.to_sql(name='yellow_taxi_data', con=engine, if_exists='append', index=False)\n",
                "        count = next_\n",
                "        print(f'inserted chunk... took: {round((time()-start), 2)} second')"
            ]
        },
        {
            "cell_type": "markdown",
            "metadata": {},
            "source": [
                "# Load data into data in batches"
            ]
        },
        {
            "cell_type": "code",
            "execution_count": 10,
            "metadata": {},
            "outputs": [
                {
                    "name": "stdout",
                    "output_type": "stream",
                    "text": [
                        "inserted chunk... took: 33.45 second\n",
                        "inserted chunk... took: 12.7 second\n",
                        "inserted chunk... took: 15.08 second\n",
                        "inserted chunk... took: 12.98 second\n",
                        "inserted chunk... took: 12.49 second\n",
                        "inserted chunk... took: 13.38 second\n",
                        "inserted chunk... took: 13.77 second\n",
                        "inserted chunk... took: 13.02 second\n",
                        "inserted chunk... took: 14.31 second\n",
                        "inserted chunk... took: 12.79 second\n",
                        "inserted chunk... took: 12.65 second\n",
                        "inserted chunk... took: 13.46 second\n",
                        "inserted chunk... took: 13.15 second\n",
                        "inserted chunk... took: 12.87 second\n",
                        "inserted chunk... took: 13.97 second\n",
                        "inserted chunk... took: 13.81 second\n",
                        "inserted chunk... took: 13.36 second\n",
                        "inserted chunk... took: 12.73 second\n",
                        "inserted chunk... took: 12.37 second\n",
                        "inserted chunk... took: 13.46 second\n",
                        "inserted chunk... took: 12.94 second\n",
                        "inserted chunk... took: 12.42 second\n",
                        "inserted chunk... took: 12.59 second\n",
                        "inserted chunk... took: 13.42 second\n",
                        "inserted chunk... took: 13.89 second\n",
                        "inserted chunk... took: 12.47 second\n",
                        "inserted chunk... took: 12.66 second\n",
                        "inserted chunk... took: 5.62 second\n"
                    ]
                }
            ],
            "source": [
                "from time import time\n",
                "total = len(df)\n",
                "count = 0\n",
                "\n",
                "\n",
                "while count < total:\n",
                "    start = time()\n",
                "    next_ = count + 50000\n",
                "    # print(count, next_)\n",
                "    write_df = df.iloc[count: next_]\n",
                "    write_df.to_sql(name='yellow_taxi_data', con=engine, if_exists='append', index=False)\n",
                "    count = next_\n",
                "    print(f'inserted chunk... took: {round((time()-start), 2)} second')\n"
            ]
        },
        {
            "cell_type": "code",
            "execution_count": null,
            "metadata": {},
            "outputs": [
                {
                    "data": {
                        "text/plain": [
                            "1369769"
                        ]
                    },
                    "execution_count": 35,
                    "metadata": {},
                    "output_type": "execute_result"
                }
            ],
            "source": [
                "total = len(df)\n",
                "total"
            ]
        },
        {
            "cell_type": "code",
            "execution_count": 34,
            "metadata": {},
            "outputs": [
                {
                    "data": {
                        "text/html": [
                            "<div>\n",
                            "<style scoped>\n",
                            "    .dataframe tbody tr th:only-of-type {\n",
                            "        vertical-align: middle;\n",
                            "    }\n",
                            "\n",
                            "    .dataframe tbody tr th {\n",
                            "        vertical-align: top;\n",
                            "    }\n",
                            "\n",
                            "    .dataframe thead th {\n",
                            "        text-align: right;\n",
                            "    }\n",
                            "</style>\n",
                            "<table border=\"1\" class=\"dataframe\">\n",
                            "  <thead>\n",
                            "    <tr style=\"text-align: right;\">\n",
                            "      <th></th>\n",
                            "      <th>VendorID</th>\n",
                            "      <th>tpep_pickup_datetime</th>\n",
                            "      <th>tpep_dropoff_datetime</th>\n",
                            "      <th>passenger_count</th>\n",
                            "      <th>trip_distance</th>\n",
                            "      <th>RatecodeID</th>\n",
                            "      <th>store_and_fwd_flag</th>\n",
                            "      <th>PULocationID</th>\n",
                            "      <th>DOLocationID</th>\n",
                            "      <th>payment_type</th>\n",
                            "      <th>fare_amount</th>\n",
                            "      <th>extra</th>\n",
                            "      <th>mta_tax</th>\n",
                            "      <th>tip_amount</th>\n",
                            "      <th>tolls_amount</th>\n",
                            "      <th>improvement_surcharge</th>\n",
                            "      <th>total_amount</th>\n",
                            "      <th>congestion_surcharge</th>\n",
                            "      <th>airport_fee</th>\n",
                            "    </tr>\n",
                            "  </thead>\n",
                            "  <tbody>\n",
                            "    <tr>\n",
                            "      <th>10</th>\n",
                            "      <td>2</td>\n",
                            "      <td>2021-01-01 00:15:52</td>\n",
                            "      <td>2021-01-01 00:38:07</td>\n",
                            "      <td>3.0</td>\n",
                            "      <td>6.11</td>\n",
                            "      <td>1.0</td>\n",
                            "      <td>N</td>\n",
                            "      <td>164</td>\n",
                            "      <td>255</td>\n",
                            "      <td>1</td>\n",
                            "      <td>20.5</td>\n",
                            "      <td>0.5</td>\n",
                            "      <td>0.5</td>\n",
                            "      <td>0.00</td>\n",
                            "      <td>0.00</td>\n",
                            "      <td>0.3</td>\n",
                            "      <td>24.30</td>\n",
                            "      <td>2.5</td>\n",
                            "      <td>NaN</td>\n",
                            "    </tr>\n",
                            "    <tr>\n",
                            "      <th>11</th>\n",
                            "      <td>2</td>\n",
                            "      <td>2021-01-01 00:46:36</td>\n",
                            "      <td>2021-01-01 00:53:45</td>\n",
                            "      <td>2.0</td>\n",
                            "      <td>1.21</td>\n",
                            "      <td>1.0</td>\n",
                            "      <td>N</td>\n",
                            "      <td>255</td>\n",
                            "      <td>80</td>\n",
                            "      <td>1</td>\n",
                            "      <td>7.0</td>\n",
                            "      <td>0.5</td>\n",
                            "      <td>0.5</td>\n",
                            "      <td>2.49</td>\n",
                            "      <td>0.00</td>\n",
                            "      <td>0.3</td>\n",
                            "      <td>10.79</td>\n",
                            "      <td>0.0</td>\n",
                            "      <td>NaN</td>\n",
                            "    </tr>\n",
                            "    <tr>\n",
                            "      <th>12</th>\n",
                            "      <td>1</td>\n",
                            "      <td>2021-01-01 00:10:46</td>\n",
                            "      <td>2021-01-01 00:32:58</td>\n",
                            "      <td>2.0</td>\n",
                            "      <td>7.40</td>\n",
                            "      <td>1.0</td>\n",
                            "      <td>N</td>\n",
                            "      <td>138</td>\n",
                            "      <td>166</td>\n",
                            "      <td>2</td>\n",
                            "      <td>24.5</td>\n",
                            "      <td>2.5</td>\n",
                            "      <td>0.5</td>\n",
                            "      <td>0.00</td>\n",
                            "      <td>6.12</td>\n",
                            "      <td>0.3</td>\n",
                            "      <td>33.92</td>\n",
                            "      <td>0.0</td>\n",
                            "      <td>NaN</td>\n",
                            "    </tr>\n",
                            "    <tr>\n",
                            "      <th>13</th>\n",
                            "      <td>2</td>\n",
                            "      <td>2021-01-01 00:31:06</td>\n",
                            "      <td>2021-01-01 00:38:52</td>\n",
                            "      <td>5.0</td>\n",
                            "      <td>1.70</td>\n",
                            "      <td>1.0</td>\n",
                            "      <td>N</td>\n",
                            "      <td>142</td>\n",
                            "      <td>50</td>\n",
                            "      <td>1</td>\n",
                            "      <td>8.0</td>\n",
                            "      <td>0.5</td>\n",
                            "      <td>0.5</td>\n",
                            "      <td>2.36</td>\n",
                            "      <td>0.00</td>\n",
                            "      <td>0.3</td>\n",
                            "      <td>14.16</td>\n",
                            "      <td>2.5</td>\n",
                            "      <td>NaN</td>\n",
                            "    </tr>\n",
                            "    <tr>\n",
                            "      <th>14</th>\n",
                            "      <td>2</td>\n",
                            "      <td>2021-01-01 00:42:11</td>\n",
                            "      <td>2021-01-01 00:44:24</td>\n",
                            "      <td>5.0</td>\n",
                            "      <td>0.81</td>\n",
                            "      <td>1.0</td>\n",
                            "      <td>N</td>\n",
                            "      <td>50</td>\n",
                            "      <td>142</td>\n",
                            "      <td>2</td>\n",
                            "      <td>4.5</td>\n",
                            "      <td>0.5</td>\n",
                            "      <td>0.5</td>\n",
                            "      <td>0.00</td>\n",
                            "      <td>0.00</td>\n",
                            "      <td>0.3</td>\n",
                            "      <td>8.30</td>\n",
                            "      <td>2.5</td>\n",
                            "      <td>NaN</td>\n",
                            "    </tr>\n",
                            "  </tbody>\n",
                            "</table>\n",
                            "</div>"
                        ],
                        "text/plain": [
                            "    VendorID tpep_pickup_datetime tpep_dropoff_datetime  passenger_count  \\\n",
                            "10         2  2021-01-01 00:15:52   2021-01-01 00:38:07              3.0   \n",
                            "11         2  2021-01-01 00:46:36   2021-01-01 00:53:45              2.0   \n",
                            "12         1  2021-01-01 00:10:46   2021-01-01 00:32:58              2.0   \n",
                            "13         2  2021-01-01 00:31:06   2021-01-01 00:38:52              5.0   \n",
                            "14         2  2021-01-01 00:42:11   2021-01-01 00:44:24              5.0   \n",
                            "\n",
                            "    trip_distance  RatecodeID store_and_fwd_flag  PULocationID  DOLocationID  \\\n",
                            "10           6.11         1.0                  N           164           255   \n",
                            "11           1.21         1.0                  N           255            80   \n",
                            "12           7.40         1.0                  N           138           166   \n",
                            "13           1.70         1.0                  N           142            50   \n",
                            "14           0.81         1.0                  N            50           142   \n",
                            "\n",
                            "    payment_type  fare_amount  extra  mta_tax  tip_amount  tolls_amount  \\\n",
                            "10             1         20.5    0.5      0.5        0.00          0.00   \n",
                            "11             1          7.0    0.5      0.5        2.49          0.00   \n",
                            "12             2         24.5    2.5      0.5        0.00          6.12   \n",
                            "13             1          8.0    0.5      0.5        2.36          0.00   \n",
                            "14             2          4.5    0.5      0.5        0.00          0.00   \n",
                            "\n",
                            "    improvement_surcharge  total_amount  congestion_surcharge  airport_fee  \n",
                            "10                    0.3         24.30                   2.5          NaN  \n",
                            "11                    0.3         10.79                   0.0          NaN  \n",
                            "12                    0.3         33.92                   0.0          NaN  \n",
                            "13                    0.3         14.16                   2.5          NaN  \n",
                            "14                    0.3          8.30                   2.5          NaN  "
                        ]
                    },
                    "execution_count": 34,
                    "metadata": {},
                    "output_type": "execute_result"
                }
            ],
            "source": [
                "test[1].head()"
            ]
        },
        {
            "cell_type": "code",
            "execution_count": 36,
            "metadata": {},
            "outputs": [
                {
                    "data": {
                        "text/plain": [
                            "27"
                        ]
                    },
                    "execution_count": 36,
                    "metadata": {},
                    "output_type": "execute_result"
                }
            ],
            "source": [
                "1369769//50000"
            ]
        },
        {
            "cell_type": "code",
            "execution_count": 1,
            "metadata": {},
            "outputs": [
                {
                    "data": {
                        "text/plain": [
                            "99810"
                        ]
                    },
                    "execution_count": 1,
                    "metadata": {},
                    "output_type": "execute_result"
                }
            ],
            "source": [
                "100000-190"
            ]
        },
        {
            "cell_type": "code",
            "execution_count": null,
            "metadata": {},
            "outputs": [],
            "source": []
        }
    ],
    "metadata": {
        "interpreter": {
            "hash": "d04a138f82f0075fbf018b739a04c6a566ff1d9b5b36fdd571ee58b59d26fd30"
        },
        "kernelspec": {
            "display_name": "Python 3.8.10 ('.ds_env-MNTYxxd-')",
            "language": "python",
            "name": "python3"
        },
        "language_info": {
            "codemirror_mode": {
                "name": "ipython",
                "version": 3
            },
            "file_extension": ".py",
            "mimetype": "text/x-python",
            "name": "python",
            "nbconvert_exporter": "python",
            "pygments_lexer": "ipython3",
            "version": "3.8.10"
        },
        "orig_nbformat": 4
    },
    "nbformat": 4,
    "nbformat_minor": 2
}
