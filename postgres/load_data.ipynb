{
    "cells": [
        {
            "cell_type": "code",
            "execution_count": 1,
            "metadata": {},
            "outputs": [],
            "source": [
                "import pandas as pd\n",
                "from sqlalchemy import create_engine\n",
                "import sqlalchemy \n",
                "path = '/Users/dit/Documents/Learning/postgres/yellow_tripdata_2021-01.parquet'\n",
                "lu_path = '/Users/dit/Documents/Learning/postgres/taxi+_zone_lookup.csv'"
            ]
        },
        {
            "cell_type": "markdown",
            "metadata": {},
            "source": [
                "# View data"
            ]
        },
        {
            "cell_type": "code",
            "execution_count": 2,
            "metadata": {},
            "outputs": [
                {
                    "name": "stdout",
                    "output_type": "stream",
                    "text": [
                        "(1369769, 19)\n",
                        "(265, 4)\n"
                    ]
                },
                {
                    "data": {
                        "text/html": [
                            "<div>\n",
                            "<style scoped>\n",
                            "    .dataframe tbody tr th:only-of-type {\n",
                            "        vertical-align: middle;\n",
                            "    }\n",
                            "\n",
                            "    .dataframe tbody tr th {\n",
                            "        vertical-align: top;\n",
                            "    }\n",
                            "\n",
                            "    .dataframe thead th {\n",
                            "        text-align: right;\n",
                            "    }\n",
                            "</style>\n",
                            "<table border=\"1\" class=\"dataframe\">\n",
                            "  <thead>\n",
                            "    <tr style=\"text-align: right;\">\n",
                            "      <th></th>\n",
                            "      <th>LocationID</th>\n",
                            "      <th>Borough</th>\n",
                            "      <th>Zone</th>\n",
                            "      <th>service_zone</th>\n",
                            "    </tr>\n",
                            "  </thead>\n",
                            "  <tbody>\n",
                            "    <tr>\n",
                            "      <th>0</th>\n",
                            "      <td>1</td>\n",
                            "      <td>EWR</td>\n",
                            "      <td>Newark Airport</td>\n",
                            "      <td>EWR</td>\n",
                            "    </tr>\n",
                            "    <tr>\n",
                            "      <th>1</th>\n",
                            "      <td>2</td>\n",
                            "      <td>Queens</td>\n",
                            "      <td>Jamaica Bay</td>\n",
                            "      <td>Boro Zone</td>\n",
                            "    </tr>\n",
                            "    <tr>\n",
                            "      <th>2</th>\n",
                            "      <td>3</td>\n",
                            "      <td>Bronx</td>\n",
                            "      <td>Allerton/Pelham Gardens</td>\n",
                            "      <td>Boro Zone</td>\n",
                            "    </tr>\n",
                            "    <tr>\n",
                            "      <th>3</th>\n",
                            "      <td>4</td>\n",
                            "      <td>Manhattan</td>\n",
                            "      <td>Alphabet City</td>\n",
                            "      <td>Yellow Zone</td>\n",
                            "    </tr>\n",
                            "    <tr>\n",
                            "      <th>4</th>\n",
                            "      <td>5</td>\n",
                            "      <td>Staten Island</td>\n",
                            "      <td>Arden Heights</td>\n",
                            "      <td>Boro Zone</td>\n",
                            "    </tr>\n",
                            "  </tbody>\n",
                            "</table>\n",
                            "</div>"
                        ],
                        "text/plain": [
                            "   LocationID        Borough                     Zone service_zone\n",
                            "0           1            EWR           Newark Airport          EWR\n",
                            "1           2         Queens              Jamaica Bay    Boro Zone\n",
                            "2           3          Bronx  Allerton/Pelham Gardens    Boro Zone\n",
                            "3           4      Manhattan            Alphabet City  Yellow Zone\n",
                            "4           5  Staten Island            Arden Heights    Boro Zone"
                        ]
                    },
                    "execution_count": 2,
                    "metadata": {},
                    "output_type": "execute_result"
                }
            ],
            "source": [
                "df = pd.read_parquet(path)\n",
                "lu_df = pd.read_csv(lu_path)\n",
                "print(df.shape)\n",
                "print(lu_df.shape)\n",
                "df.head()\n",
                "lu_df.head()"
            ]
        },
        {
            "cell_type": "markdown",
            "metadata": {},
            "source": [
                "# DB cred"
            ]
        },
        {
            "cell_type": "code",
            "execution_count": 3,
            "metadata": {},
            "outputs": [],
            "source": [
                "user = 'postgres'\n",
                "port = '5432'\n",
                "host = 'localhost'\n",
                "password = \"***\"\n",
                "db = 'test_db'\n",
                "\n",
                "\n",
                "# python ingest_data.py \\\n",
                "#     --user postgres \\\n",
                "#     --port 5432 \\\n",
                "#     --host localhost \\\n",
                "#     --password  ***\\\n",
                "#     --db test_db \\\n",
                "#     --table_name yellow_taxi_data_v1 \\\n",
                "#     --url /Users/dit/Documents/Learning/postgres/yellow_tripdata_2021-01.parquet\n",
                "#     --url https://s3.amazonaws.com/nyc-tlc/trip+data/yellow_tripdata_2021-01.parquet"
            ]
        },
        {
            "cell_type": "code",
            "execution_count": 4,
            "metadata": {},
            "outputs": [
                {
                    "name": "stdout",
                    "output_type": "stream",
                    "text": [
                        "\n",
                        "CREATE TABLE yellow_taxi_data (\n",
                        "\t\"VendorID\" BIGINT, \n",
                        "\ttpep_pickup_datetime TIMESTAMP WITHOUT TIME ZONE, \n",
                        "\ttpep_dropoff_datetime TIMESTAMP WITHOUT TIME ZONE, \n",
                        "\tpassenger_count FLOAT(53), \n",
                        "\ttrip_distance FLOAT(53), \n",
                        "\t\"RatecodeID\" FLOAT(53), \n",
                        "\tstore_and_fwd_flag TEXT, \n",
                        "\t\"PULocationID\" BIGINT, \n",
                        "\t\"DOLocationID\" BIGINT, \n",
                        "\tpayment_type BIGINT, \n",
                        "\tfare_amount FLOAT(53), \n",
                        "\textra FLOAT(53), \n",
                        "\tmta_tax FLOAT(53), \n",
                        "\ttip_amount FLOAT(53), \n",
                        "\ttolls_amount FLOAT(53), \n",
                        "\timprovement_surcharge FLOAT(53), \n",
                        "\ttotal_amount FLOAT(53), \n",
                        "\tcongestion_surcharge FLOAT(53), \n",
                        "\tairport_fee FLOAT(53)\n",
                        ")\n",
                        "\n",
                        "\n",
                        "\n",
                        "CREATE TABLE lookup_table (\n",
                        "\t\"LocationID\" BIGINT, \n",
                        "\t\"Borough\" TEXT, \n",
                        "\t\"Zone\" TEXT, \n",
                        "\tservice_zone TEXT\n",
                        ")\n",
                        "\n",
                        "\n"
                    ]
                }
            ],
            "source": [
                "engine = create_engine(f'postgresql+pg8000://{user}:{password}@{host}:{port}/{db}')\n",
                "print(pd.io.sql.get_schema(df, name='yellow_taxi_data', con=engine))\n",
                "print(pd.io.sql.get_schema(lu_df, name='lookup_table', con=engine))"
            ]
        },
        {
            "cell_type": "markdown",
            "metadata": {},
            "source": [
                "# create table"
            ]
        },
        {
            "cell_type": "code",
            "execution_count": 5,
            "metadata": {},
            "outputs": [
                {
                    "data": {
                        "text/plain": [
                            "2"
                        ]
                    },
                    "execution_count": 5,
                    "metadata": {},
                    "output_type": "execute_result"
                }
            ],
            "source": [
                "df.head(2).to_sql(name='yellow_taxi_data', con=engine, if_exists='append', index=False)"
            ]
        },
        {
            "cell_type": "code",
            "execution_count": 9,
            "metadata": {},
            "outputs": [
                {
                    "data": {
                        "text/plain": [
                            "5"
                        ]
                    },
                    "execution_count": 9,
                    "metadata": {},
                    "output_type": "execute_result"
                }
            ],
            "source": [
                "df.head(5).to_sql(name='yellow_taxi_data_v2', con=engine, if_exists='replace', index=False)\n",
                "# lu_df.to_sql(name='lookup_table', con=engine, if_exists='replace', index=False)\n"
            ]
        },
        {
            "cell_type": "code",
            "execution_count": null,
            "metadata": {},
            "outputs": [],
            "source": [
                "def load_to_postgres(path):\n",
                "    df = pd.read_parquet(path)\n",
                "    engine = create_engine(f'postgresql+pg8000://{user}:{password}@{host}:{port}/{db}')\n",
                "\n",
                "    while count < total:\n",
                "        start = time()\n",
                "        next_ = count + 50000\n",
                "        # print(count, next_)\n",
                "        write_df = df.iloc[count: next_]\n",
                "        write_df.to_sql(name='yellow_taxi_data', con=engine, if_exists='append', index=False)\n",
                "        count = next_\n",
                "        print(f'inserted chunk... took: {round((time()-start), 2)} second')"
            ]
        },
        {
            "cell_type": "markdown",
            "metadata": {},
            "source": [
                "# Load data into data in batches"
            ]
        },
        {
            "cell_type": "code",
            "execution_count": 10,
            "metadata": {},
            "outputs": [
                {
                    "name": "stdout",
                    "output_type": "stream",
                    "text": [
                        "inserted chunk... took: 33.45 second\n",
                        "inserted chunk... took: 12.7 second\n",
                        "inserted chunk... took: 15.08 second\n",
                        "inserted chunk... took: 12.98 second\n",
                        "inserted chunk... took: 12.49 second\n",
                        "inserted chunk... took: 13.38 second\n",
                        "inserted chunk... took: 13.77 second\n",
                        "inserted chunk... took: 13.02 second\n",
                        "inserted chunk... took: 14.31 second\n",
                        "inserted chunk... took: 12.79 second\n",
                        "inserted chunk... took: 12.65 second\n",
                        "inserted chunk... took: 13.46 second\n",
                        "inserted chunk... took: 13.15 second\n",
                        "inserted chunk... took: 12.87 second\n",
                        "inserted chunk... took: 13.97 second\n",
                        "inserted chunk... took: 13.81 second\n",
                        "inserted chunk... took: 13.36 second\n",
                        "inserted chunk... took: 12.73 second\n",
                        "inserted chunk... took: 12.37 second\n",
                        "inserted chunk... took: 13.46 second\n",
                        "inserted chunk... took: 12.94 second\n",
                        "inserted chunk... took: 12.42 second\n",
                        "inserted chunk... took: 12.59 second\n",
                        "inserted chunk... took: 13.42 second\n",
                        "inserted chunk... took: 13.89 second\n",
                        "inserted chunk... took: 12.47 second\n",
                        "inserted chunk... took: 12.66 second\n",
                        "inserted chunk... took: 5.62 second\n"
                    ]
                }
            ],
            "source": [
                "from time import time\n",
                "total = len(df)\n",
                "count = 0\n",
                "\n",
                "\n",
                "while count < total:\n",
                "    start = time()\n",
                "    next_ = count + 50000\n",
                "    # print(count, next_)\n",
                "    write_df = df.iloc[count: next_]\n",
                "    write_df.to_sql(name='yellow_taxi_data', con=engine, if_exists='append', index=False)\n",
                "    count = next_\n",
                "    print(f'inserted chunk... took: {round((time()-start), 2)} second')\n"
            ]
        },
        {
            "cell_type": "code",
            "execution_count": null,
            "metadata": {},
            "outputs": [
                {
                    "data": {
                        "text/plain": [
                            "1369769"
                        ]
                    },
                    "execution_count": 35,
                    "metadata": {},
                    "output_type": "execute_result"
                }
            ],
            "source": [
                "total = len(df)\n",
                "total"
            ]
        },
        {
            "cell_type": "code",
            "execution_count": 34,
            "metadata": {},
            "outputs": [
                {
                    "data": {
                        "text/html": [
                            "<div>\n",
                            "<style scoped>\n",
                            "    .dataframe tbody tr th:only-of-type {\n",
                            "        vertical-align: middle;\n",
                            "    }\n",
                            "\n",
                            "    .dataframe tbody tr th {\n",
                            "        vertical-align: top;\n",
                            "    }\n",
                            "\n",
                            "    .dataframe thead th {\n",
                            "        text-align: right;\n",
                            "    }\n",
                            "</style>\n",
                            "<table border=\"1\" class=\"dataframe\">\n",
                            "  <thead>\n",
                            "    <tr style=\"text-align: right;\">\n",
                            "      <th></th>\n",
                            "      <th>VendorID</th>\n",
                            "      <th>tpep_pickup_datetime</th>\n",
                            "      <th>tpep_dropoff_datetime</th>\n",
                            "      <th>passenger_count</th>\n",
                            "      <th>trip_distance</th>\n",
                            "      <th>RatecodeID</th>\n",
                            "      <th>store_and_fwd_flag</th>\n",
                            "      <th>PULocationID</th>\n",
                            "      <th>DOLocationID</th>\n",
                            "      <th>payment_type</th>\n",
                            "      <th>fare_amount</th>\n",
                            "      <th>extra</th>\n",
                            "      <th>mta_tax</th>\n",
                            "      <th>tip_amount</th>\n",
                            "      <th>tolls_amount</th>\n",
                            "      <th>improvement_surcharge</th>\n",
                            "      <th>total_amount</th>\n",
                            "      <th>congestion_surcharge</th>\n",
                            "      <th>airport_fee</th>\n",
                            "    </tr>\n",
                            "  </thead>\n",
                            "  <tbody>\n",
                            "    <tr>\n",
                            "      <th>10</th>\n",
                            "      <td>2</td>\n",
                            "      <td>2021-01-01 00:15:52</td>\n",
                            "      <td>2021-01-01 00:38:07</td>\n",
                            "      <td>3.0</td>\n",
                            "      <td>6.11</td>\n",
                            "      <td>1.0</td>\n",
                            "      <td>N</td>\n",
                            "      <td>164</td>\n",
                            "      <td>255</td>\n",
                            "      <td>1</td>\n",
                            "      <td>20.5</td>\n",
                            "      <td>0.5</td>\n",
                            "      <td>0.5</td>\n",
                            "      <td>0.00</td>\n",
                            "      <td>0.00</td>\n",
                            "      <td>0.3</td>\n",
                            "      <td>24.30</td>\n",
                            "      <td>2.5</td>\n",
                            "      <td>NaN</td>\n",
                            "    </tr>\n",
                            "    <tr>\n",
                            "      <th>11</th>\n",
                            "      <td>2</td>\n",
                            "      <td>2021-01-01 00:46:36</td>\n",
                            "      <td>2021-01-01 00:53:45</td>\n",
                            "      <td>2.0</td>\n",
                            "      <td>1.21</td>\n",
                            "      <td>1.0</td>\n",
                            "      <td>N</td>\n",
                            "      <td>255</td>\n",
                            "      <td>80</td>\n",
                            "      <td>1</td>\n",
                            "      <td>7.0</td>\n",
                            "      <td>0.5</td>\n",
                            "      <td>0.5</td>\n",
                            "      <td>2.49</td>\n",
                            "      <td>0.00</td>\n",
                            "      <td>0.3</td>\n",
                            "      <td>10.79</td>\n",
                            "      <td>0.0</td>\n",
                            "      <td>NaN</td>\n",
                            "    </tr>\n",
                            "    <tr>\n",
                            "      <th>12</th>\n",
                            "      <td>1</td>\n",
                            "      <td>2021-01-01 00:10:46</td>\n",
                            "      <td>2021-01-01 00:32:58</td>\n",
                            "      <td>2.0</td>\n",
                            "      <td>7.40</td>\n",
                            "      <td>1.0</td>\n",
                            "      <td>N</td>\n",
                            "      <td>138</td>\n",
                            "      <td>166</td>\n",
                            "      <td>2</td>\n",
                            "      <td>24.5</td>\n",
                            "      <td>2.5</td>\n",
                            "      <td>0.5</td>\n",
                            "      <td>0.00</td>\n",
                            "      <td>6.12</td>\n",
                            "      <td>0.3</td>\n",
                            "      <td>33.92</td>\n",
                            "      <td>0.0</td>\n",
                            "      <td>NaN</td>\n",
                            "    </tr>\n",
                            "    <tr>\n",
                            "      <th>13</th>\n",
                            "      <td>2</td>\n",
                            "      <td>2021-01-01 00:31:06</td>\n",
                            "      <td>2021-01-01 00:38:52</td>\n",
                            "      <td>5.0</td>\n",
                            "      <td>1.70</td>\n",
                            "      <td>1.0</td>\n",
                            "      <td>N</td>\n",
                            "      <td>142</td>\n",
                            "      <td>50</td>\n",
                            "      <td>1</td>\n",
                            "      <td>8.0</td>\n",
                            "      <td>0.5</td>\n",
                            "      <td>0.5</td>\n",
                            "      <td>2.36</td>\n",
                            "      <td>0.00</td>\n",
                            "      <td>0.3</td>\n",
                            "      <td>14.16</td>\n",
                            "      <td>2.5</td>\n",
                            "      <td>NaN</td>\n",
                            "    </tr>\n",
                            "    <tr>\n",
                            "      <th>14</th>\n",
                            "      <td>2</td>\n",
                            "      <td>2021-01-01 00:42:11</td>\n",
                            "      <td>2021-01-01 00:44:24</td>\n",
                            "      <td>5.0</td>\n",
                            "      <td>0.81</td>\n",
                            "      <td>1.0</td>\n",
                            "      <td>N</td>\n",
                            "      <td>50</td>\n",
                            "      <td>142</td>\n",
                            "      <td>2</td>\n",
                            "      <td>4.5</td>\n",
                            "      <td>0.5</td>\n",
                            "      <td>0.5</td>\n",
                            "      <td>0.00</td>\n",
                            "      <td>0.00</td>\n",
                            "      <td>0.3</td>\n",
                            "      <td>8.30</td>\n",
                            "      <td>2.5</td>\n",
                            "      <td>NaN</td>\n",
                            "    </tr>\n",
                            "  </tbody>\n",
                            "</table>\n",
                            "</div>"
                        ],
                        "text/plain": [
                            "    VendorID tpep_pickup_datetime tpep_dropoff_datetime  passenger_count  \\\n",
                            "10         2  2021-01-01 00:15:52   2021-01-01 00:38:07              3.0   \n",
                            "11         2  2021-01-01 00:46:36   2021-01-01 00:53:45              2.0   \n",
                            "12         1  2021-01-01 00:10:46   2021-01-01 00:32:58              2.0   \n",
                            "13         2  2021-01-01 00:31:06   2021-01-01 00:38:52              5.0   \n",
                            "14         2  2021-01-01 00:42:11   2021-01-01 00:44:24              5.0   \n",
                            "\n",
                            "    trip_distance  RatecodeID store_and_fwd_flag  PULocationID  DOLocationID  \\\n",
                            "10           6.11         1.0                  N           164           255   \n",
                            "11           1.21         1.0                  N           255            80   \n",
                            "12           7.40         1.0                  N           138           166   \n",
                            "13           1.70         1.0                  N           142            50   \n",
                            "14           0.81         1.0                  N            50           142   \n",
                            "\n",
                            "    payment_type  fare_amount  extra  mta_tax  tip_amount  tolls_amount  \\\n",
                            "10             1         20.5    0.5      0.5        0.00          0.00   \n",
                            "11             1          7.0    0.5      0.5        2.49          0.00   \n",
                            "12             2         24.5    2.5      0.5        0.00          6.12   \n",
                            "13             1          8.0    0.5      0.5        2.36          0.00   \n",
                            "14             2          4.5    0.5      0.5        0.00          0.00   \n",
                            "\n",
                            "    improvement_surcharge  total_amount  congestion_surcharge  airport_fee  \n",
                            "10                    0.3         24.30                   2.5          NaN  \n",
                            "11                    0.3         10.79                   0.0          NaN  \n",
                            "12                    0.3         33.92                   0.0          NaN  \n",
                            "13                    0.3         14.16                   2.5          NaN  \n",
                            "14                    0.3          8.30                   2.5          NaN  "
                        ]
                    },
                    "execution_count": 34,
                    "metadata": {},
                    "output_type": "execute_result"
                }
            ],
            "source": [
                "test[1].head()"
            ]
        },
        {
            "cell_type": "code",
            "execution_count": 36,
            "metadata": {},
            "outputs": [
                {
                    "data": {
                        "text/plain": [
                            "27"
                        ]
                    },
                    "execution_count": 36,
                    "metadata": {},
                    "output_type": "execute_result"
                }
            ],
            "source": [
                "1369769//50000"
            ]
        },
        {
            "cell_type": "code",
            "execution_count": 1,
            "metadata": {},
            "outputs": [
                {
                    "data": {
                        "text/plain": [
                            "99810"
                        ]
                    },
                    "execution_count": 1,
                    "metadata": {},
                    "output_type": "execute_result"
                }
            ],
            "source": [
                "100000-190"
            ]
        },
        {
            "cell_type": "code",
            "execution_count": null,
            "metadata": {},
            "outputs": [],
            "source": []
        }
    ],
    "metadata": {
        "interpreter": {
            "hash": "d04a138f82f0075fbf018b739a04c6a566ff1d9b5b36fdd571ee58b59d26fd30"
        },
        "kernelspec": {
            "display_name": "Python 3.8.10 ('.ds_env-MNTYxxd-')",
            "language": "python",
            "name": "python3"
        },
        "language_info": {
            "codemirror_mode": {
                "name": "ipython",
                "version": 3
            },
            "file_extension": ".py",
            "mimetype": "text/x-python",
            "name": "python",
            "nbconvert_exporter": "python",
            "pygments_lexer": "ipython3",
            "version": "3.8.10"
        },
        "orig_nbformat": 4
    },
    "nbformat": 4,
    "nbformat_minor": 2
}
